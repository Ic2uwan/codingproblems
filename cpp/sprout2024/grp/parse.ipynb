import pandas as pd
from bs4 import BeautifulSoup

# Read the HTML file
with open('table.html', 'r', encoding='utf-8') as file:
    html_content = file.read()

# Parse the HTML content
soup = BeautifulSoup(html_content, 'html.parser')
table = soup.find('table')

# Extract the headers
headers = []
for th in table.find_all('th'):
    headers.append(th.text.strip())

# Extract the rows
rows = []
for tr in table.find_all('tr')[1:]:  # Skip the header row
    row = []
    for td in tr.find_all(['td', 'th']):
        row.append(td.text.strip())
    rows.append(row)

# Convert to DataFrame
df = pd.DataFrame(rows, columns=headers)

# Save to CSV
df.to_csv('output.csv', index=False)
